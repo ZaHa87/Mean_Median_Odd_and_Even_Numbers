{
  "nbformat": 4,
  "nbformat_minor": 0,
  "metadata": {
    "colab": {
      "name": "Mean_Median_Odd_and_Even_Numbers.ipynb",
      "provenance": [],
      "collapsed_sections": [],
      "authorship_tag": "ABX9TyNfKa0D/i2Mtnibf0snjoPZ",
      "include_colab_link": true
    },
    "kernelspec": {
      "name": "python3",
      "display_name": "Python 3"
    },
    "language_info": {
      "name": "python"
    }
  },
  "cells": [
    {
      "cell_type": "markdown",
      "metadata": {
        "id": "view-in-github",
        "colab_type": "text"
      },
      "source": [
        "<a href=\"https://colab.research.google.com/github/ZaHa87/Mean_Median_Odd_and_Even_Numbers/blob/main/Mean_Median_Odd_and_Even_Numbers.ipynb\" target=\"_parent\"><img src=\"https://colab.research.google.com/assets/colab-badge.svg\" alt=\"Open In Colab\"/></a>"
      ]
    },
    {
      "cell_type": "code",
      "metadata": {
        "colab": {
          "base_uri": "https://localhost:8080/"
        },
        "id": "FAmAKGB29rA_",
        "outputId": "0e9968d1-8d7b-466f-b373-9bea869e0fd9"
      },
      "source": [
        "# Test project\n",
        "# by Zaur Hamzayev\n",
        "'''\n",
        "numpy,pandas,odd and even numbers\n",
        "mean and median of list\n",
        "'''\n",
        "\n",
        "import numpy as np\n",
        "import pandas as pd\n",
        "\n",
        "empty_list = []\n",
        "n = int(input())\n",
        "\n",
        "for x in range(0, n):\n",
        "    empty_list.append(x**2)\n",
        "\n",
        "print(empty_list)\n",
        "print(sum(empty_list))\n",
        "\n",
        "d = {'odd_numbers$':0, 'even_numbers$':0}\n",
        "for z in empty_list:\n",
        "    if z%2 == 0:\n",
        "        d['odd_numbers$'] += 1\n",
        "    elif z%2 != 0:\n",
        "        d['even_numbers$'] += 1\n",
        "    else:\n",
        "        pass\n",
        "\n",
        "print(d)\n",
        "\n",
        "def median_list():\n",
        "    print(\"Mean of list: \", sum(empty_list)//len(empty_list))\n",
        "    print(\"Median of list: \", np.median(empty_list))\n",
        "    return\n",
        "\n",
        "median_list()\n",
        "\n",
        "# I will write 10 in input\n"
      ],
      "execution_count": 4,
      "outputs": [
        {
          "output_type": "stream",
          "name": "stdout",
          "text": [
            "10\n",
            "[0, 1, 4, 9, 16, 25, 36, 49, 64, 81]\n",
            "285\n",
            "{'odd_numbers$': 5, 'even_numbers$': 5}\n",
            "Mean of list:  28\n",
            "Median of list:  20.5\n"
          ]
        }
      ]
    },
    {
      "cell_type": "code",
      "metadata": {
        "id": "Q_xHNhDR-pLo"
      },
      "source": [
        ""
      ],
      "execution_count": null,
      "outputs": []
    }
  ]
}